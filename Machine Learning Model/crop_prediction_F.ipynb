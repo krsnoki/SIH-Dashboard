{
  "nbformat": 4,
  "nbformat_minor": 0,
  "metadata": {
    "colab": {
      "provenance": []
    },
    "kernelspec": {
      "name": "python3",
      "display_name": "Python 3"
    },
    "language_info": {
      "name": "python"
    }
  },
  "cells": [
    {
      "cell_type": "code",
      "execution_count": null,
      "metadata": {
        "id": "PAmVhfpyvGax"
      },
      "outputs": [],
      "source": [
        "import pandas as pd\n",
        "import numpy as np"
      ]
    },
    {
      "cell_type": "code",
      "source": [
        "df=pd.read_csv('/content/Crop_recommendation.csv')"
      ],
      "metadata": {
        "id": "JtYGYkQbvN-t"
      },
      "execution_count": null,
      "outputs": []
    },
    {
      "cell_type": "code",
      "source": [
        "crop_dict = {\n",
        "    'rice': 1,\n",
        "    'maize': 2,\n",
        "    'jute': 3,\n",
        "    'cotton': 4,\n",
        "    'coconut': 5,\n",
        "    'papaya': 6,\n",
        "    'orange': 7,\n",
        "    'apple': 8,\n",
        "    'muskmelon': 9,\n",
        "    'watermelon': 10,\n",
        "    'grapes': 11,\n",
        "    'mango': 12,\n",
        "    'banana': 13,\n",
        "    'pomegranate': 14,\n",
        "    'lentil': 15,\n",
        "    'blackgram': 16,\n",
        "    'mungbean': 17,\n",
        "    'mothbeans': 18,\n",
        "    'pigeonpeas': 19,\n",
        "    'kidneybeans': 20,\n",
        "    'chickpea': 21,\n",
        "    'coffee': 22\n",
        "}\n",
        "df['crop_num']=df['label'].map(crop_dict)"
      ],
      "metadata": {
        "id": "__5TgtsdvObU"
      },
      "execution_count": null,
      "outputs": []
    },
    {
      "cell_type": "code",
      "source": [
        "X = df.drop(['crop_num','label'],axis=1)\n",
        "y = df['crop_num']"
      ],
      "metadata": {
        "id": "-uX1BSkPvdZa"
      },
      "execution_count": null,
      "outputs": []
    },
    {
      "cell_type": "code",
      "source": [
        "from sklearn.model_selection import train_test_split"
      ],
      "metadata": {
        "id": "3exclxt4wCZ6"
      },
      "execution_count": null,
      "outputs": []
    },
    {
      "cell_type": "code",
      "source": [
        "X_train, X_test, y_train, y_test = train_test_split(X, y, test_size=0.2, random_state=42)"
      ],
      "metadata": {
        "id": "BnrHiE25wI_L"
      },
      "execution_count": null,
      "outputs": []
    },
    {
      "cell_type": "code",
      "source": [
        "X_train.shape"
      ],
      "metadata": {
        "colab": {
          "base_uri": "https://localhost:8080/"
        },
        "id": "3C5G2eWiwT9h",
        "outputId": "5d2e965c-6a6a-4983-bdb2-07e47ee1a123"
      },
      "execution_count": null,
      "outputs": [
        {
          "output_type": "execute_result",
          "data": {
            "text/plain": [
              "(1760, 7)"
            ]
          },
          "metadata": {},
          "execution_count": 9
        }
      ]
    },
    {
      "cell_type": "code",
      "source": [
        "X_test.shape"
      ],
      "metadata": {
        "colab": {
          "base_uri": "https://localhost:8080/"
        },
        "id": "YJaeeATZwVNF",
        "outputId": "b2b1ea2e-82a6-437c-e3b4-4b754cad608a"
      },
      "execution_count": null,
      "outputs": [
        {
          "output_type": "execute_result",
          "data": {
            "text/plain": [
              "(440, 7)"
            ]
          },
          "metadata": {},
          "execution_count": 11
        }
      ]
    },
    {
      "cell_type": "code",
      "source": [
        "from sklearn.preprocessing import MinMaxScaler\n",
        "ms = MinMaxScaler()\n",
        "\n",
        "X_train = ms.fit_transform(X_train)\n",
        "X_test = ms.transform(X_test)"
      ],
      "metadata": {
        "id": "i1RB3o-pwZzk"
      },
      "execution_count": null,
      "outputs": []
    },
    {
      "cell_type": "code",
      "source": [
        "from sklearn.preprocessing import StandardScaler\n",
        "sc = StandardScaler()\n",
        "\n",
        "\n",
        "sc.fit(X_train)\n",
        "X_train = sc.transform(X_train)\n",
        "X_test = sc.transform(X_test)"
      ],
      "metadata": {
        "id": "-VP_WTuewdt7"
      },
      "execution_count": null,
      "outputs": []
    },
    {
      "cell_type": "code",
      "source": [
        "X_train"
      ],
      "metadata": {
        "colab": {
          "base_uri": "https://localhost:8080/"
        },
        "id": "kHGc7t6awgg7",
        "outputId": "67bf696c-3d57-4dd7-cd3a-aad7f1d40263"
      },
      "execution_count": null,
      "outputs": [
        {
          "output_type": "execute_result",
          "data": {
            "text/plain": [
              "array([[-9.03426596e-01, -1.12616170e+00, -6.68506601e-01, ...,\n",
              "         9.36586183e-01,  1.93473784e-01,  5.14970176e-03],\n",
              "       [-3.67051340e-01,  7.70358846e-01, -5.70589522e-01, ...,\n",
              "        -1.00470485e-01,  8.63917548e-01, -6.05290566e-01],\n",
              "       [-1.17161422e+00,  5.89737842e-01, -4.53089028e-01, ...,\n",
              "        -3.82774991e-01,  1.05029771e+00, -1.04580687e+00],\n",
              "       ...,\n",
              "       [-1.06433917e+00, -5.24091685e-01, -3.35588533e-01, ...,\n",
              "        -8.98381379e-01, -6.34357580e-04, -4.37358211e-02],\n",
              "       [-1.06433917e+00,  2.12501638e+00,  3.05234239e+00, ...,\n",
              "         3.86340190e-01, -1.48467347e-01, -5.69036842e-01],\n",
              "       [-5.01145154e-01,  7.40255346e-01, -5.11839275e-01, ...,\n",
              "        -4.18045489e-01,  6.86860180e-01, -8.96531475e-01]])"
            ]
          },
          "metadata": {},
          "execution_count": 14
        }
      ]
    },
    {
      "cell_type": "code",
      "source": [
        "from sklearn.ensemble import RandomForestClassifier\n",
        "rm = RandomForestClassifier()\n",
        "rm.fit(X_train,y_train)"
      ],
      "metadata": {
        "colab": {
          "base_uri": "https://localhost:8080/",
          "height": 74
        },
        "id": "yWg3dPgDwt7O",
        "outputId": "b7d5ea43-5f88-44e5-d257-1a2ce6ecbfdb"
      },
      "execution_count": null,
      "outputs": [
        {
          "output_type": "execute_result",
          "data": {
            "text/plain": [
              "RandomForestClassifier()"
            ],
            "text/html": [
              "<style>#sk-container-id-1 {color: black;background-color: white;}#sk-container-id-1 pre{padding: 0;}#sk-container-id-1 div.sk-toggleable {background-color: white;}#sk-container-id-1 label.sk-toggleable__label {cursor: pointer;display: block;width: 100%;margin-bottom: 0;padding: 0.3em;box-sizing: border-box;text-align: center;}#sk-container-id-1 label.sk-toggleable__label-arrow:before {content: \"▸\";float: left;margin-right: 0.25em;color: #696969;}#sk-container-id-1 label.sk-toggleable__label-arrow:hover:before {color: black;}#sk-container-id-1 div.sk-estimator:hover label.sk-toggleable__label-arrow:before {color: black;}#sk-container-id-1 div.sk-toggleable__content {max-height: 0;max-width: 0;overflow: hidden;text-align: left;background-color: #f0f8ff;}#sk-container-id-1 div.sk-toggleable__content pre {margin: 0.2em;color: black;border-radius: 0.25em;background-color: #f0f8ff;}#sk-container-id-1 input.sk-toggleable__control:checked~div.sk-toggleable__content {max-height: 200px;max-width: 100%;overflow: auto;}#sk-container-id-1 input.sk-toggleable__control:checked~label.sk-toggleable__label-arrow:before {content: \"▾\";}#sk-container-id-1 div.sk-estimator input.sk-toggleable__control:checked~label.sk-toggleable__label {background-color: #d4ebff;}#sk-container-id-1 div.sk-label input.sk-toggleable__control:checked~label.sk-toggleable__label {background-color: #d4ebff;}#sk-container-id-1 input.sk-hidden--visually {border: 0;clip: rect(1px 1px 1px 1px);clip: rect(1px, 1px, 1px, 1px);height: 1px;margin: -1px;overflow: hidden;padding: 0;position: absolute;width: 1px;}#sk-container-id-1 div.sk-estimator {font-family: monospace;background-color: #f0f8ff;border: 1px dotted black;border-radius: 0.25em;box-sizing: border-box;margin-bottom: 0.5em;}#sk-container-id-1 div.sk-estimator:hover {background-color: #d4ebff;}#sk-container-id-1 div.sk-parallel-item::after {content: \"\";width: 100%;border-bottom: 1px solid gray;flex-grow: 1;}#sk-container-id-1 div.sk-label:hover label.sk-toggleable__label {background-color: #d4ebff;}#sk-container-id-1 div.sk-serial::before {content: \"\";position: absolute;border-left: 1px solid gray;box-sizing: border-box;top: 0;bottom: 0;left: 50%;z-index: 0;}#sk-container-id-1 div.sk-serial {display: flex;flex-direction: column;align-items: center;background-color: white;padding-right: 0.2em;padding-left: 0.2em;position: relative;}#sk-container-id-1 div.sk-item {position: relative;z-index: 1;}#sk-container-id-1 div.sk-parallel {display: flex;align-items: stretch;justify-content: center;background-color: white;position: relative;}#sk-container-id-1 div.sk-item::before, #sk-container-id-1 div.sk-parallel-item::before {content: \"\";position: absolute;border-left: 1px solid gray;box-sizing: border-box;top: 0;bottom: 0;left: 50%;z-index: -1;}#sk-container-id-1 div.sk-parallel-item {display: flex;flex-direction: column;z-index: 1;position: relative;background-color: white;}#sk-container-id-1 div.sk-parallel-item:first-child::after {align-self: flex-end;width: 50%;}#sk-container-id-1 div.sk-parallel-item:last-child::after {align-self: flex-start;width: 50%;}#sk-container-id-1 div.sk-parallel-item:only-child::after {width: 0;}#sk-container-id-1 div.sk-dashed-wrapped {border: 1px dashed gray;margin: 0 0.4em 0.5em 0.4em;box-sizing: border-box;padding-bottom: 0.4em;background-color: white;}#sk-container-id-1 div.sk-label label {font-family: monospace;font-weight: bold;display: inline-block;line-height: 1.2em;}#sk-container-id-1 div.sk-label-container {text-align: center;}#sk-container-id-1 div.sk-container {/* jupyter's `normalize.less` sets `[hidden] { display: none; }` but bootstrap.min.css set `[hidden] { display: none !important; }` so we also need the `!important` here to be able to override the default hidden behavior on the sphinx rendered scikit-learn.org. See: https://github.com/scikit-learn/scikit-learn/issues/21755 */display: inline-block !important;position: relative;}#sk-container-id-1 div.sk-text-repr-fallback {display: none;}</style><div id=\"sk-container-id-1\" class=\"sk-top-container\"><div class=\"sk-text-repr-fallback\"><pre>RandomForestClassifier()</pre><b>In a Jupyter environment, please rerun this cell to show the HTML representation or trust the notebook. <br />On GitHub, the HTML representation is unable to render, please try loading this page with nbviewer.org.</b></div><div class=\"sk-container\" hidden><div class=\"sk-item\"><div class=\"sk-estimator sk-toggleable\"><input class=\"sk-toggleable__control sk-hidden--visually\" id=\"sk-estimator-id-1\" type=\"checkbox\" checked><label for=\"sk-estimator-id-1\" class=\"sk-toggleable__label sk-toggleable__label-arrow\">RandomForestClassifier</label><div class=\"sk-toggleable__content\"><pre>RandomForestClassifier()</pre></div></div></div></div></div>"
            ]
          },
          "metadata": {},
          "execution_count": 15
        }
      ]
    },
    {
      "cell_type": "code",
      "source": [
        "from sklearn.metrics import accuracy_score\n",
        "ypred = rm.predict(X_test)\n",
        "accuracy_score(y_test,ypred)"
      ],
      "metadata": {
        "colab": {
          "base_uri": "https://localhost:8080/"
        },
        "id": "ytllMx22xELT",
        "outputId": "9195c6ec-d8df-4d8e-b9c2-598e40790ca7"
      },
      "execution_count": null,
      "outputs": [
        {
          "output_type": "execute_result",
          "data": {
            "text/plain": [
              "0.9931818181818182"
            ]
          },
          "metadata": {},
          "execution_count": 17
        }
      ]
    },
    {
      "cell_type": "code",
      "source": [
        "def recommendation(N,P,k,temperature,humidity,ph,rainfal):\n",
        "    features = np.array([[N,P,k,temperature,humidity,ph,rainfal]])\n",
        "    transformed_features = ms.fit_transform(features)\n",
        "    transformed_features = sc.fit_transform(transformed_features)\n",
        "    prediction = rm.predict(transformed_features).reshape(1,-1)\n",
        "\n",
        "    return prediction[0]"
      ],
      "metadata": {
        "id": "Ax0G7Dq4xQ6R"
      },
      "execution_count": null,
      "outputs": []
    },
    {
      "cell_type": "code",
      "source": [
        "N = 40\n",
        "P = 50\n",
        "k = 50\n",
        "temperature = 40.0\n",
        "humidity = 20\n",
        "ph = 100\n",
        "rainfall = 100\n",
        "\n",
        "predict = recommendation(N,P,k,temperature,humidity,ph,rainfall)\n",
        "\n",
        "\n",
        "crop_dict = {1: \"Rice\", 2: \"Maize\", 3: \"Jute\", 4: \"Cotton\", 5: \"Coconut\", 6: \"Papaya\", 7: \"Orange\",\n",
        "                 8: \"Apple\", 9: \"Muskmelon\", 10: \"Watermelon\", 11: \"Grapes\", 12: \"Mango\", 13: \"Banana\",\n",
        "                 14: \"Pomegranate\", 15: \"Lentil\", 16: \"Blackgram\", 17: \"Mungbean\", 18: \"Mothbeans\",\n",
        "                 19: \"Pigeonpeas\", 20: \"Kidneybeans\", 21: \"Chickpea\", 22: \"Coffee\"}\n",
        "\n",
        "if predict[0] in crop_dict:\n",
        "    crop = crop_dict[predict[0]]\n",
        "    print(\"{} is a best crop to be cultivated \".format(crop))\n",
        "else:\n",
        "    print(\"Sorry are not able to recommend a proper crop for this environment\")"
      ],
      "metadata": {
        "colab": {
          "base_uri": "https://localhost:8080/"
        },
        "id": "ULriphB_xVY8",
        "outputId": "3bfd8ac5-12b1-4b67-b3e4-7cecdf1d4fa1"
      },
      "execution_count": null,
      "outputs": [
        {
          "output_type": "stream",
          "name": "stdout",
          "text": [
            "Papaya is a best crop to be cultivated \n"
          ]
        }
      ]
    },
    {
      "cell_type": "code",
      "source": [
        "import pickle\n",
        "pickle.dump(rm,open('model.pkl','wb'))\n",
        "pickle.dump(ms,open('minmaxscaler.pkl','wb'))\n",
        "pickle.dump(sc,open('standscaler.pkl','wb'))"
      ],
      "metadata": {
        "id": "T8LdnWGBxub_"
      },
      "execution_count": null,
      "outputs": []
    }
  ]
}